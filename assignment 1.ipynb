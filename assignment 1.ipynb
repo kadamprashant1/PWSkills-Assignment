{
 "cells": [
  {
   "cell_type": "markdown",
   "id": "a8a1d5d3-4551-42d5-bc8c-72350012d0f1",
   "metadata": {},
   "source": [
    "Q1 answer..."
   ]
  },
  {
   "cell_type": "markdown",
   "id": "31c9c8a5-f91e-4d97-a5ce-58185cd64f4a",
   "metadata": {},
   "source": [
    "Here are some examples to illustrate when to use a for loop and a while loop:\n",
    "\n",
    "Example 1: Using a for loop to iterate over a sequence\n",
    "Suppose you have a list of numbers and you want to print each number in the list. A for loop would be the ideal choice in this scenario since we know the number of elements in the list beforehand."
   ]
  },
  {
   "cell_type": "code",
   "execution_count": 2,
   "id": "8f2d0080-32b7-4342-8a1b-79f594d992e1",
   "metadata": {},
   "outputs": [
    {
     "name": "stdout",
     "output_type": "stream",
     "text": [
      "1\n",
      "2\n",
      "3\n",
      "4\n",
      "5\n"
     ]
    }
   ],
   "source": [
    "numbers = [1, 2, 3, 4, 5]\n",
    "for number in numbers:\n",
    "    print(number)"
   ]
  },
  {
   "cell_type": "markdown",
   "id": "92bc2328-fbd5-479c-aa73-0b60c488b606",
   "metadata": {},
   "source": [
    "Example 2: Using a while loop to iterate until a condition is met\n",
    "Suppose you want to prompt a user to enter a password until they enter the correct password. Since you don't know how many times the user will enter the wrong password, a while loop is appropriate in this scenario."
   ]
  },
  {
   "cell_type": "code",
   "execution_count": 3,
   "id": "73bdb981-a749-4072-b882-d925013b8e33",
   "metadata": {},
   "outputs": [
    {
     "name": "stdin",
     "output_type": "stream",
     "text": [
      "Enter your password:  1234\n"
     ]
    },
    {
     "name": "stdout",
     "output_type": "stream",
     "text": [
      "Access granted!\n"
     ]
    }
   ],
   "source": [
    "password = \"1234\"\n",
    "user_input = \"\"\n",
    "while user_input != password:\n",
    "    user_input = input(\"Enter your password: \")\n",
    "print(\"Access granted!\")"
   ]
  },
  {
   "cell_type": "markdown",
   "id": "88587a89-5632-4627-847e-3374d17188eb",
   "metadata": {},
   "source": [
    "Q2 answer.."
   ]
  },
  {
   "cell_type": "markdown",
   "id": "58f5e315-9aba-4dc8-9ba6-593e05fafe46",
   "metadata": {},
   "source": [
    "Here are two Python programs that print the sum and product of the first 10 natural numbers using a for loop and a while loop:"
   ]
  },
  {
   "cell_type": "code",
   "execution_count": 4,
   "id": "e3472745-2e83-40ee-b6f0-dcd3425c0a25",
   "metadata": {},
   "outputs": [
    {
     "name": "stdout",
     "output_type": "stream",
     "text": [
      "The sum of the first 10 natural numbers is: 55\n",
      "The product of the first 10 natural numbers is: 3628800\n"
     ]
    }
   ],
   "source": [
    "sum = 0\n",
    "for i in range(1, 11):\n",
    "    sum += i\n",
    "product = 1\n",
    "for i in range(1, 11):\n",
    "    product *= i\n",
    "print(\"The sum of the first 10 natural numbers is:\", sum)\n",
    "print(\"The product of the first 10 natural numbers is:\", product)"
   ]
  },
  {
   "cell_type": "markdown",
   "id": "5d7c59ff-0350-4b27-a115-35d077b399c4",
   "metadata": {},
   "source": [
    " Printing the sum and product of the first 10 natural numbers using a while loop:"
   ]
  },
  {
   "cell_type": "code",
   "execution_count": 5,
   "id": "40fb7992-4831-4dab-9cbb-5c0cb94a58cd",
   "metadata": {},
   "outputs": [
    {
     "name": "stdout",
     "output_type": "stream",
     "text": [
      "The sum of the first 10 natural numbers is: 55\n",
      "The product of the first 10 natural numbers is: 3628800\n"
     ]
    }
   ],
   "source": [
    "i = 1\n",
    "sum = 0\n",
    "product = 1\n",
    "while i <= 10:\n",
    "    sum += i\n",
    "    product *= i\n",
    "    i += 1\n",
    "print(\"The sum of the first 10 natural numbers is:\", sum)\n",
    "print(\"The product of the first 10 natural numbers is:\", product)"
   ]
  },
  {
   "cell_type": "markdown",
   "id": "60337b2c-2c99-4f11-b45b-b8d3d474c3e7",
   "metadata": {},
   "source": [
    "Q3 answer..."
   ]
  },
  {
   "cell_type": "markdown",
   "id": "34fc1cca-979c-43b4-81d6-12baf8ed2d6f",
   "metadata": {},
   "source": [
    "\n",
    "units = float(input(\"Enter the number of units consumed: \"))\n",
    "bill_amount = 0\n",
    "if units <= 100:\n",
    "    bill_amount = units * 4.5\n",
    "elif units <= 200:\n",
    "    bill_amount = 100 * 4.5 + (units - 100) * 6\n",
    "elif units <= 300:\n",
    "    bill_amount = 100 * 4.5 + 100 * 6 + (units - 200) * 10\n",
    "else:\n",
    "    bill_amount = 100 * 4.5 + 100 * 6 + 100 * 10 + (units - 300) * 20\n",
    "print(\"Your electricity bill amount is: Rs.\", bill_amount)"
   ]
  },
  {
   "cell_type": "markdown",
   "id": "e9292b6e-8be5-49de-8c63-64639d021e54",
   "metadata": {},
   "source": [
    "Q4 answer.."
   ]
  },
  {
   "cell_type": "code",
   "execution_count": 8,
   "id": "05d15daa-999e-46a2-af03-9c1a47f8191f",
   "metadata": {},
   "outputs": [
    {
     "name": "stdout",
     "output_type": "stream",
     "text": [
      "10\n",
      "20\n",
      "30\n",
      "40\n",
      "50\n",
      "60\n",
      "70\n",
      "80\n",
      "90\n",
      "100\n"
     ]
    }
   ],
   "source": [
    "list=[]\n",
    "for i in range(1,101):\n",
    "    cube=i*i*i\n",
    "    if(cube%4==0 and cube%5==0):\n",
    "        list.append(i)\n",
    "for j in list:\n",
    "    print(j)"
   ]
  },
  {
   "cell_type": "markdown",
   "id": "bde55a9c-8a02-48ba-b84c-43c1d7c3299a",
   "metadata": {},
   "source": [
    "Q5 answer..."
   ]
  },
  {
   "cell_type": "code",
   "execution_count": 9,
   "id": "efae19ee-aa2b-4a5d-8205-9f3336b905eb",
   "metadata": {},
   "outputs": [
    {
     "name": "stdout",
     "output_type": "stream",
     "text": [
      "number of vowels in given string is  11\n"
     ]
    }
   ],
   "source": [
    "strings=\"I want to become a data scientist\"\n",
    "count=0\n",
    "for i in strings:\n",
    "    if(i==\"a\" or i==\"e\" or i==\"i\" or i==\"o\" or i==\"u\"):\n",
    "        count+=1\n",
    "print(\"number of vowels in given string is \", count)"
   ]
  },
  {
   "cell_type": "code",
   "execution_count": null,
   "id": "c4c6d44f-410a-4eb9-afe6-210abb7c4421",
   "metadata": {},
   "outputs": [],
   "source": []
  }
 ],
 "metadata": {
  "kernelspec": {
   "display_name": "Python 3 (ipykernel)",
   "language": "python",
   "name": "python3"
  },
  "language_info": {
   "codemirror_mode": {
    "name": "ipython",
    "version": 3
   },
   "file_extension": ".py",
   "mimetype": "text/x-python",
   "name": "python",
   "nbconvert_exporter": "python",
   "pygments_lexer": "ipython3",
   "version": "3.10.8"
  }
 },
 "nbformat": 4,
 "nbformat_minor": 5
}
