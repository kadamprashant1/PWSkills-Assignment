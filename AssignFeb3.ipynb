{
 "cells": [
  {
   "cell_type": "markdown",
   "id": "6689613a-fc1d-4fd4-b5c9-0ba7c6b8bd4b",
   "metadata": {},
   "source": [
    "Q1 ans"
   ]
  },
  {
   "cell_type": "markdown",
   "id": "ee3a2fe9-c206-4728-a37f-e0b83b132596",
   "metadata": {},
   "source": [
    "The keyword used to create a function in Python is \"def\"."
   ]
  },
  {
   "cell_type": "markdown",
   "id": "2967fe40-501e-46ee-bd02-af4508bf1301",
   "metadata": {},
   "source": [
    "Here's an example of a function that returns a list of odd numbers in the range of 1 to 25:"
   ]
  },
  {
   "cell_type": "code",
   "execution_count": 1,
   "id": "e8bb6606-8a23-4fb2-ae63-b390845b2806",
   "metadata": {},
   "outputs": [],
   "source": [
    "def odd_numbers():\n",
    "    odd_list = []\n",
    "    for i in range(1, 26):\n",
    "        if i % 2 != 0:\n",
    "            odd_list.append(i)\n",
    "    return odd_list"
   ]
  },
  {
   "cell_type": "code",
   "execution_count": 2,
   "id": "84cdc1da-00ac-4c75-aad2-2f491e275034",
   "metadata": {},
   "outputs": [
    {
     "data": {
      "text/plain": [
       "[1, 3, 5, 7, 9, 11, 13, 15, 17, 19, 21, 23, 25]"
      ]
     },
     "execution_count": 2,
     "metadata": {},
     "output_type": "execute_result"
    }
   ],
   "source": [
    "odd_numbers()"
   ]
  },
  {
   "cell_type": "markdown",
   "id": "f1e3e439-f665-4b97-80dd-4d0cb6a144c5",
   "metadata": {},
   "source": [
    "Q2 ans"
   ]
  },
  {
   "cell_type": "markdown",
   "id": "a7ee4eaf-3e59-4cd2-892a-da92dab8d50b",
   "metadata": {},
   "source": [
    "In Python, *args and **kwargs are used to allow a function to accept an arbitrary number of arguments, which can be useful in cases where you don't know in advance how many arguments a function will need to accept or where you want to pass a variable number of arguments to a function.\n",
    "\n",
    "*args is used to pass a variable number of non-keyword arguments to a function. It allows you to pass any number of arguments to a function, and these arguments are collected into a tuple.\n",
    "\n",
    "Here's an example of a function that takes in *args and returns the sum of all the arguments passed in:"
   ]
  },
  {
   "cell_type": "code",
   "execution_count": 3,
   "id": "eaf5bc0a-4686-4f43-98de-b49a51538ca9",
   "metadata": {},
   "outputs": [],
   "source": [
    "def sum_args(*args):\n",
    "    total = 0\n",
    "    for num in args:\n",
    "        total += num\n",
    "    return total"
   ]
  },
  {
   "cell_type": "code",
   "execution_count": 4,
   "id": "d064a8e2-0ac5-4c7b-8a6e-b3373c4cfa85",
   "metadata": {},
   "outputs": [
    {
     "data": {
      "text/plain": [
       "27"
      ]
     },
     "execution_count": 4,
     "metadata": {},
     "output_type": "execute_result"
    }
   ],
   "source": [
    "sum_args(1,3,5,6,5,7)"
   ]
  },
  {
   "cell_type": "markdown",
   "id": "1f6c9d82-2356-417e-b259-b1fab3ffa677",
   "metadata": {},
   "source": [
    "Here's an example of a function that takes in **kwargs and prints out each key-value pair:"
   ]
  },
  {
   "cell_type": "code",
   "execution_count": 5,
   "id": "1af020b1-b920-42e8-a341-63d7de85542c",
   "metadata": {},
   "outputs": [],
   "source": [
    "def print_kwargs(**kwargs):\n",
    "    for key, value in kwargs.items():\n",
    "        print(f\"{key}: {value}\")"
   ]
  },
  {
   "cell_type": "code",
   "execution_count": 7,
   "id": "cc036ff9-d3fe-4482-8047-48a2bd58e0ca",
   "metadata": {},
   "outputs": [
    {
     "name": "stdout",
     "output_type": "stream",
     "text": [
      "first: ajit\n",
      "mid: prashant\n",
      "last: praful\n"
     ]
    }
   ],
   "source": [
    "print_kwargs(first='ajit', mid='prashant', last='praful')"
   ]
  },
  {
   "cell_type": "markdown",
   "id": "8905d887-313b-43bf-9dd2-541f396854e9",
   "metadata": {},
   "source": [
    "Q3 ans"
   ]
  },
  {
   "cell_type": "markdown",
   "id": "f2169c9e-4c81-4eac-8403-1183b52a3035",
   "metadata": {},
   "source": [
    "Iterators are used in conjunction with the iter() function, which returns an iterator object that can be used to iterate through a collection, and the next() function, which returns the next item in the collection."
   ]
  },
  {
   "cell_type": "code",
   "execution_count": 8,
   "id": "2c2a1713-f128-4424-a1ba-75cf6e361520",
   "metadata": {},
   "outputs": [
    {
     "name": "stdout",
     "output_type": "stream",
     "text": [
      "2\n",
      "4\n",
      "6\n",
      "8\n",
      "10\n"
     ]
    }
   ],
   "source": [
    "my_list = [2, 4, 6, 8, 10, 12, 14, 16, 18, 20]\n",
    "my_iter = iter(my_list)\n",
    "\n",
    "for i in range(5):\n",
    "    print(next(my_iter))"
   ]
  },
  {
   "cell_type": "markdown",
   "id": "28317eb1-8d22-4338-92fb-048ec2d1dffe",
   "metadata": {},
   "source": [
    "Q4 ans"
   ]
  },
  {
   "cell_type": "markdown",
   "id": "46c5c6cf-534c-42ef-a0f8-fe6f52bafcf9",
   "metadata": {},
   "source": [
    "In Python, a generator function is a special type of function that can be used to create iterator objects on-the-fly. Instead of returning a single value like a regular function, a generator function \"yields\" a sequence of values as it runs, and can be paused and resumed at any time.\n",
    "\n",
    "The yield keyword is used in generator functions to indicate where the generator should pause and return a value to the caller. When the generator is resumed, it picks up where it left off and continues executing until it hits the next yield statement."
   ]
  },
  {
   "cell_type": "code",
   "execution_count": 10,
   "id": "637d7c14-6031-4932-8c69-60c39c3e056f",
   "metadata": {},
   "outputs": [],
   "source": [
    "def even_numbers():\n",
    "    num = 0\n",
    "    while True:\n",
    "        yield num\n",
    "        num += 2\n"
   ]
  },
  {
   "cell_type": "code",
   "execution_count": 11,
   "id": "e1b3a571-d66b-4a23-8dea-24552008e92c",
   "metadata": {},
   "outputs": [
    {
     "name": "stdout",
     "output_type": "stream",
     "text": [
      "0\n"
     ]
    }
   ],
   "source": [
    "my_gen = even_numbers()\n",
    "print(next(my_gen)) "
   ]
  },
  {
   "cell_type": "code",
   "execution_count": 12,
   "id": "4e13afba-f87d-44d2-94e0-b702e77f2ddd",
   "metadata": {},
   "outputs": [
    {
     "name": "stdout",
     "output_type": "stream",
     "text": [
      "2\n"
     ]
    }
   ],
   "source": [
    "print(next(my_gen))"
   ]
  },
  {
   "cell_type": "markdown",
   "id": "1c53c47f-2b5b-4387-9584-c2246245961d",
   "metadata": {},
   "source": [
    "Q5 ans"
   ]
  },
  {
   "cell_type": "code",
   "execution_count": 14,
   "id": "da61a6e6-b187-44b8-814b-4469ce56705e",
   "metadata": {},
   "outputs": [],
   "source": [
    "def primes():\n",
    "    yield 2\n",
    "    yield 3\n",
    "    yield 5\n",
    "    yield 7\n",
    "    for num in range(11, 1000, 2):\n",
    "        is_prime = True\n",
    "        for i in range(3, int(num**0.5) + 1, 2):\n",
    "            if num % i == 0:\n",
    "                is_prime = False\n",
    "                break\n",
    "        if is_prime:\n",
    "            yield num\n"
   ]
  },
  {
   "cell_type": "code",
   "execution_count": 15,
   "id": "0627d969-6c5e-48b7-9487-66e4563c6a7c",
   "metadata": {},
   "outputs": [
    {
     "name": "stdout",
     "output_type": "stream",
     "text": [
      "2\n",
      "3\n",
      "5\n",
      "7\n",
      "11\n",
      "13\n",
      "17\n",
      "19\n",
      "23\n",
      "29\n",
      "31\n",
      "37\n",
      "41\n",
      "43\n",
      "47\n",
      "53\n",
      "59\n",
      "61\n",
      "67\n",
      "71\n"
     ]
    }
   ],
   "source": [
    "my_gen = primes()\n",
    "for i in range(20):\n",
    "    print(next(my_gen))\n"
   ]
  },
  {
   "cell_type": "markdown",
   "id": "aeefc7ac-b44b-42a8-962f-4b2800ac5f23",
   "metadata": {},
   "source": [
    "Q6 ans"
   ]
  },
  {
   "cell_type": "code",
   "execution_count": 16,
   "id": "e9586b0f-b3a7-49a9-89c9-2444ab027d4c",
   "metadata": {},
   "outputs": [
    {
     "name": "stdout",
     "output_type": "stream",
     "text": [
      "0\n",
      "1\n",
      "1\n",
      "2\n",
      "3\n",
      "5\n",
      "8\n",
      "13\n",
      "21\n",
      "34\n"
     ]
    }
   ],
   "source": [
    "a, b = 0, 1\n",
    "count = 0\n",
    "while count < 10:\n",
    "    print(a)\n",
    "    c = a + b\n",
    "    a = b\n",
    "    b = c\n",
    "    count += 1\n"
   ]
  },
  {
   "cell_type": "markdown",
   "id": "61b98300-9821-4d6e-8382-7252d6e8c29f",
   "metadata": {},
   "source": [
    "Q7 ans"
   ]
  },
  {
   "cell_type": "code",
   "execution_count": 18,
   "id": "b00d632e-ad25-4293-b811-a9571e3565ee",
   "metadata": {},
   "outputs": [
    {
     "name": "stdout",
     "output_type": "stream",
     "text": [
      "['p', 'w', 's', 'k', 'i', 'l', 'l', 's']\n"
     ]
    }
   ],
   "source": [
    "string = 'pwskills'\n",
    "result = [char for char in string]\n",
    "print(result)\n"
   ]
  },
  {
   "cell_type": "markdown",
   "id": "fe83b518-bf37-457b-ad18-b72c1c7ceba4",
   "metadata": {},
   "source": [
    "Q8 ans"
   ]
  },
  {
   "cell_type": "code",
   "execution_count": 19,
   "id": "8ecd320b-ccf0-4e7f-8b81-be1e4f9f7051",
   "metadata": {},
   "outputs": [
    {
     "name": "stdin",
     "output_type": "stream",
     "text": [
      "Enter a number:  101\n"
     ]
    },
    {
     "name": "stdout",
     "output_type": "stream",
     "text": [
      "101 is a palindrome\n"
     ]
    }
   ],
   "source": [
    "number = int(input(\"Enter a number: \"))\n",
    "temp = number\n",
    "reverse = 0\n",
    "\n",
    "while temp != 0:\n",
    "    remainder = temp % 10\n",
    "    reverse = (reverse * 10) + remainder\n",
    "    temp = temp // 10\n",
    "\n",
    "if number == reverse:\n",
    "    print(number, \"is a palindrome\")\n",
    "else:\n",
    "    print(number, \"is not a palindrome\")\n"
   ]
  },
  {
   "cell_type": "markdown",
   "id": "be67bd0f-26bd-4558-ad9a-8cc69006c048",
   "metadata": {},
   "source": [
    "Q9 ans"
   ]
  },
  {
   "cell_type": "code",
   "execution_count": 20,
   "id": "3cdeb891-6201-4d73-8246-caa85dced82b",
   "metadata": {},
   "outputs": [
    {
     "name": "stdout",
     "output_type": "stream",
     "text": [
      "[1, 3, 5, 7, 9, 11, 13, 15, 17, 19, 21, 23, 25, 27, 29, 31, 33, 35, 37, 39, 41, 43, 45, 47, 49, 51, 53, 55, 57, 59, 61, 63, 65, 67, 69, 71, 73, 75, 77, 79, 81, 83, 85, 87, 89, 91, 93, 95, 97, 99]\n"
     ]
    }
   ],
   "source": [
    "numbers = [num for num in range(1, 101)]\n",
    "\n",
    "odds = [num for num in numbers if num % 2 != 0]\n",
    "\n",
    "print(odds)"
   ]
  },
  {
   "cell_type": "code",
   "execution_count": null,
   "id": "c41b948c-75c3-470d-a380-cc1198f72b1b",
   "metadata": {},
   "outputs": [],
   "source": []
  }
 ],
 "metadata": {
  "kernelspec": {
   "display_name": "Python 3 (ipykernel)",
   "language": "python",
   "name": "python3"
  },
  "language_info": {
   "codemirror_mode": {
    "name": "ipython",
    "version": 3
   },
   "file_extension": ".py",
   "mimetype": "text/x-python",
   "name": "python",
   "nbconvert_exporter": "python",
   "pygments_lexer": "ipython3",
   "version": "3.10.8"
  }
 },
 "nbformat": 4,
 "nbformat_minor": 5
}
