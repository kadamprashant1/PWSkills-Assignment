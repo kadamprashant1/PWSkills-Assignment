{
 "cells": [
  {
   "cell_type": "markdown",
   "id": "219feff5-4af6-476f-acc5-283a9615ac1a",
   "metadata": {},
   "source": [
    "Q1 ans"
   ]
  },
  {
   "cell_type": "code",
   "execution_count": 2,
   "id": "540508fe-bc0a-461e-8ee4-35f0fb5fcdee",
   "metadata": {},
   "outputs": [
    {
     "name": "stdout",
     "output_type": "stream",
     "text": [
      "[('Virat Kohli', 24936), ('Jack Kallis', 25534), ('Ricky Ponting', 27483), ('Sachin Tendulkar', 34357)]\n"
     ]
    }
   ],
   "source": [
    "players = [('Sachin Tendulkar', 34357), ('Ricky Ponting', 27483), ('Jack Kallis', 25534), ('Virat Kohli', 24936)]\n",
    "\n",
    "players.sort(key=lambda x: x[1])\n",
    "\n",
    "print(players)\n"
   ]
  },
  {
   "cell_type": "markdown",
   "id": "a035944d-5ff1-4708-af5c-159a04f46937",
   "metadata": {},
   "source": [
    "Q2 ans"
   ]
  },
  {
   "cell_type": "code",
   "execution_count": 3,
   "id": "4c971c7c-3712-4c33-b196-6694f1ad9297",
   "metadata": {},
   "outputs": [
    {
     "name": "stdout",
     "output_type": "stream",
     "text": [
      "[1, 4, 9, 16, 25, 36, 49, 64, 81, 100]\n"
     ]
    }
   ],
   "source": [
    "numbers = [1, 2, 3, 4, 5, 6, 7, 8, 9, 10]\n",
    "\n",
    "squares = list(map(lambda x: x**2, numbers))\n",
    "\n",
    "print(squares)\n"
   ]
  },
  {
   "cell_type": "markdown",
   "id": "bfb7f539-1fb9-4342-9183-31c3a1ae592b",
   "metadata": {},
   "source": [
    "Q3 ans"
   ]
  },
  {
   "cell_type": "code",
   "execution_count": 4,
   "id": "2c689031-86a2-4e6a-a551-41f9e555f7ed",
   "metadata": {},
   "outputs": [
    {
     "name": "stdout",
     "output_type": "stream",
     "text": [
      "('1', '2', '3', '4', '5', '6', '7', '8', '9', '10')\n"
     ]
    }
   ],
   "source": [
    "numbers = [1, 2, 3, 4, 5, 6, 7, 8, 9, 10]\n",
    "\n",
    "strings_tuple = tuple(map(lambda x: str(x), numbers))\n",
    "\n",
    "print(strings_tuple)\n"
   ]
  },
  {
   "cell_type": "markdown",
   "id": "c3e573f8-81e5-4818-a0fb-db7b699fd397",
   "metadata": {},
   "source": [
    "Q4 ans"
   ]
  },
  {
   "cell_type": "code",
   "execution_count": 5,
   "id": "3fc63899-e65a-4708-bdee-d3da4d1baf49",
   "metadata": {},
   "outputs": [
    {
     "name": "stdout",
     "output_type": "stream",
     "text": [
      "15511210043330985984000000\n"
     ]
    }
   ],
   "source": [
    "from functools import reduce\n",
    "\n",
    "numbers = list(range(1, 26))\n",
    "\n",
    "product = reduce(lambda x, y: x*y, numbers)\n",
    "\n",
    "print(product)\n"
   ]
  },
  {
   "cell_type": "markdown",
   "id": "be183e36-8a2c-43b3-8e0a-125dc46e41c0",
   "metadata": {},
   "source": [
    "Q5 ans"
   ]
  },
  {
   "cell_type": "code",
   "execution_count": 6,
   "id": "cc0cf551-7d87-46fa-8649-070a1e50cda7",
   "metadata": {},
   "outputs": [
    {
     "name": "stdout",
     "output_type": "stream",
     "text": [
      "[6, 60, 90, 120]\n"
     ]
    }
   ],
   "source": [
    "numbers = [2, 3, 6, 9, 27, 60, 90, 120, 55, 46]\n",
    "\n",
    "divisible_by_2_and_3 = list(filter(lambda x: x%2 == 0 and x%3 == 0, numbers))\n",
    "\n",
    "print(divisible_by_2_and_3)\n"
   ]
  },
  {
   "cell_type": "markdown",
   "id": "6338c02e-65d6-4564-97b3-c65410ffb29d",
   "metadata": {},
   "source": [
    "Q6 ans"
   ]
  },
  {
   "cell_type": "code",
   "execution_count": 7,
   "id": "7d8281b7-dcce-4380-bedc-a209c3e099ce",
   "metadata": {},
   "outputs": [
    {
     "name": "stdout",
     "output_type": "stream",
     "text": [
      "['php', 'aba', 'radar', 'level']\n"
     ]
    }
   ],
   "source": [
    "strings = ['python', 'php', 'aba', 'radar', 'level']\n",
    "\n",
    "palindromes = list(filter(lambda x: x == x[::-1], strings))\n",
    "\n",
    "print(palindromes)"
   ]
  },
  {
   "cell_type": "code",
   "execution_count": null,
   "id": "3e7fa458-2155-49d0-9ad6-90fcd1d510e7",
   "metadata": {},
   "outputs": [],
   "source": []
  }
 ],
 "metadata": {
  "kernelspec": {
   "display_name": "Python 3 (ipykernel)",
   "language": "python",
   "name": "python3"
  },
  "language_info": {
   "codemirror_mode": {
    "name": "ipython",
    "version": 3
   },
   "file_extension": ".py",
   "mimetype": "text/x-python",
   "name": "python",
   "nbconvert_exporter": "python",
   "pygments_lexer": "ipython3",
   "version": "3.10.8"
  }
 },
 "nbformat": 4,
 "nbformat_minor": 5
}
